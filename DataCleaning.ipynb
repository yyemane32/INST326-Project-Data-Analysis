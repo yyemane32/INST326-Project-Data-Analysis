{
 "cells": [
  {
   "cell_type": "markdown",
   "metadata": {},
   "source": [
    "# 1. DATA CLEANING PORTION"
   ]
  },
  {
   "cell_type": "markdown",
   "metadata": {},
   "source": [
    "## Importing libraries and loading file"
   ]
  },
  {
   "cell_type": "code",
   "execution_count": 1,
   "metadata": {
    "scrolled": true
   },
   "outputs": [
    {
     "data": {
      "text/html": [
       "<div>\n",
       "<style scoped>\n",
       "    .dataframe tbody tr th:only-of-type {\n",
       "        vertical-align: middle;\n",
       "    }\n",
       "\n",
       "    .dataframe tbody tr th {\n",
       "        vertical-align: top;\n",
       "    }\n",
       "\n",
       "    .dataframe thead th {\n",
       "        text-align: right;\n",
       "    }\n",
       "</style>\n",
       "<table border=\"1\" class=\"dataframe\">\n",
       "  <thead>\n",
       "    <tr style=\"text-align: right;\">\n",
       "      <th></th>\n",
       "      <th>Gss year for this respondent</th>\n",
       "      <th>Ballot used for interview</th>\n",
       "      <th>Rs income in constant $</th>\n",
       "      <th>R is how tall</th>\n",
       "      <th>R weighs how much</th>\n",
       "      <th>Rs religious preference</th>\n",
       "      <th>Respondents income</th>\n",
       "      <th>Total family income</th>\n",
       "      <th>Number of persons in household</th>\n",
       "      <th>Race of respondent</th>\n",
       "      <th>Respondents sex</th>\n",
       "      <th>Rs highest degree</th>\n",
       "      <th>Age of respondent</th>\n",
       "      <th>Number of children</th>\n",
       "      <th>Marital status</th>\n",
       "      <th>Labor force status</th>\n",
       "      <th>Respondent id number</th>\n",
       "      <th>R's family's negative attitudes about mh problems</th>\n",
       "    </tr>\n",
       "  </thead>\n",
       "  <tbody>\n",
       "    <tr>\n",
       "      <td>0</td>\n",
       "      <td>2000</td>\n",
       "      <td>Ballot a</td>\n",
       "      <td>5985.0</td>\n",
       "      <td>Not applicable</td>\n",
       "      <td>Not applicable</td>\n",
       "      <td>Protestant</td>\n",
       "      <td>$8000 to 9999</td>\n",
       "      <td>No answer</td>\n",
       "      <td>2.0</td>\n",
       "      <td>White</td>\n",
       "      <td>Male</td>\n",
       "      <td>Bachelor</td>\n",
       "      <td>26</td>\n",
       "      <td>0</td>\n",
       "      <td>Never married</td>\n",
       "      <td>Working fulltime</td>\n",
       "      <td>1.0</td>\n",
       "      <td>Not applicable</td>\n",
       "    </tr>\n",
       "    <tr>\n",
       "      <td>1</td>\n",
       "      <td>2000</td>\n",
       "      <td>Ballot c</td>\n",
       "      <td>5985.0</td>\n",
       "      <td>Not applicable</td>\n",
       "      <td>Not applicable</td>\n",
       "      <td>Protestant</td>\n",
       "      <td>$8000 to 9999</td>\n",
       "      <td>$8000 to 9999</td>\n",
       "      <td>1.0</td>\n",
       "      <td>White</td>\n",
       "      <td>Female</td>\n",
       "      <td>High school</td>\n",
       "      <td>48</td>\n",
       "      <td>2</td>\n",
       "      <td>Divorced</td>\n",
       "      <td>Working fulltime</td>\n",
       "      <td>2.0</td>\n",
       "      <td>Not applicable</td>\n",
       "    </tr>\n",
       "    <tr>\n",
       "      <td>2</td>\n",
       "      <td>2000</td>\n",
       "      <td>Ballot b</td>\n",
       "      <td>0.0</td>\n",
       "      <td>Not applicable</td>\n",
       "      <td>Not applicable</td>\n",
       "      <td>Protestant</td>\n",
       "      <td>Not applicable</td>\n",
       "      <td>$15000 - 19999</td>\n",
       "      <td>1.0</td>\n",
       "      <td>White</td>\n",
       "      <td>Female</td>\n",
       "      <td>High school</td>\n",
       "      <td>67</td>\n",
       "      <td>5</td>\n",
       "      <td>Widowed</td>\n",
       "      <td>Keeping house</td>\n",
       "      <td>3.0</td>\n",
       "      <td>Not applicable</td>\n",
       "    </tr>\n",
       "    <tr>\n",
       "      <td>3</td>\n",
       "      <td>2000</td>\n",
       "      <td>Ballot b</td>\n",
       "      <td>0.0</td>\n",
       "      <td>Not applicable</td>\n",
       "      <td>Not applicable</td>\n",
       "      <td>Orthodox-christian</td>\n",
       "      <td>Not applicable</td>\n",
       "      <td>$25000 or more</td>\n",
       "      <td>1.0</td>\n",
       "      <td>White</td>\n",
       "      <td>Female</td>\n",
       "      <td>High school</td>\n",
       "      <td>39</td>\n",
       "      <td>1</td>\n",
       "      <td>Never married</td>\n",
       "      <td>Working fulltime</td>\n",
       "      <td>4.0</td>\n",
       "      <td>Not applicable</td>\n",
       "    </tr>\n",
       "    <tr>\n",
       "      <td>4</td>\n",
       "      <td>2000</td>\n",
       "      <td>Ballot b</td>\n",
       "      <td>0.0</td>\n",
       "      <td>Not applicable</td>\n",
       "      <td>Not applicable</td>\n",
       "      <td>None</td>\n",
       "      <td>Not applicable</td>\n",
       "      <td>$25000 or more</td>\n",
       "      <td>1.0</td>\n",
       "      <td>White</td>\n",
       "      <td>Female</td>\n",
       "      <td>Junior college</td>\n",
       "      <td>25</td>\n",
       "      <td>0</td>\n",
       "      <td>Divorced</td>\n",
       "      <td>Working fulltime</td>\n",
       "      <td>5.0</td>\n",
       "      <td>Not applicable</td>\n",
       "    </tr>\n",
       "  </tbody>\n",
       "</table>\n",
       "</div>"
      ],
      "text/plain": [
       "  Gss year for this respondent                         \\\n",
       "0                                               2000    \n",
       "1                                               2000    \n",
       "2                                               2000    \n",
       "3                                               2000    \n",
       "4                                               2000    \n",
       "\n",
       "  Ballot used for interview  Rs income in constant $   R is how tall  \\\n",
       "0                  Ballot a                   5985.0  Not applicable   \n",
       "1                  Ballot c                   5985.0  Not applicable   \n",
       "2                  Ballot b                      0.0  Not applicable   \n",
       "3                  Ballot b                      0.0  Not applicable   \n",
       "4                  Ballot b                      0.0  Not applicable   \n",
       "\n",
       "  R weighs how much Rs religious preference Respondents income  \\\n",
       "0    Not applicable              Protestant      $8000 to 9999   \n",
       "1    Not applicable              Protestant      $8000 to 9999   \n",
       "2    Not applicable              Protestant     Not applicable   \n",
       "3    Not applicable      Orthodox-christian     Not applicable   \n",
       "4    Not applicable                    None     Not applicable   \n",
       "\n",
       "  Total family income  Number of persons in household Race of respondent  \\\n",
       "0           No answer                             2.0              White   \n",
       "1       $8000 to 9999                             1.0              White   \n",
       "2      $15000 - 19999                             1.0              White   \n",
       "3      $25000 or more                             1.0              White   \n",
       "4      $25000 or more                             1.0              White   \n",
       "\n",
       "  Respondents sex Rs highest degree Age of respondent Number of children  \\\n",
       "0            Male          Bachelor                26                  0   \n",
       "1          Female       High school                48                  2   \n",
       "2          Female       High school                67                  5   \n",
       "3          Female       High school                39                  1   \n",
       "4          Female    Junior college                25                  0   \n",
       "\n",
       "  Marital status Labor force status  Respondent id number  \\\n",
       "0  Never married   Working fulltime                   1.0   \n",
       "1       Divorced   Working fulltime                   2.0   \n",
       "2        Widowed      Keeping house                   3.0   \n",
       "3  Never married   Working fulltime                   4.0   \n",
       "4       Divorced   Working fulltime                   5.0   \n",
       "\n",
       "  R's family's negative attitudes about mh problems  \n",
       "0                                    Not applicable  \n",
       "1                                    Not applicable  \n",
       "2                                    Not applicable  \n",
       "3                                    Not applicable  \n",
       "4                                    Not applicable  "
      ]
     },
     "execution_count": 1,
     "metadata": {},
     "output_type": "execute_result"
    }
   ],
   "source": [
    "import numpy as np\n",
    "import pandas as pd \n",
    "import matplotlib.pyplot as plt\n",
    "from sklearn.linear_model import LinearRegression\n",
    "import statsmodels.api as sm\n",
    "import seaborn as sns\n",
    "df = pd.read_csv('GSS.csv')\n",
    "df.head()"
   ]
  },
  {
   "cell_type": "markdown",
   "metadata": {},
   "source": [
    "## Dropping unwanted columns"
   ]
  },
  {
   "cell_type": "code",
   "execution_count": 2,
   "metadata": {},
   "outputs": [],
   "source": [
    "df.drop(columns= [\"R's family's negative attitudes about mh problems\", \n",
    "                  \"Ballot used for interview\", \"Respondent id number\", \"Respondents income\",'Total family income'], inplace = True)\n",
    "df.drop(df.columns[0], axis=1, inplace=True)"
   ]
  },
  {
   "cell_type": "markdown",
   "metadata": {},
   "source": [
    "## Dropping rows with NA values"
   ]
  },
  {
   "cell_type": "code",
   "execution_count": 3,
   "metadata": {},
   "outputs": [],
   "source": [
    "df.dropna(inplace = True)"
   ]
  },
  {
   "cell_type": "markdown",
   "metadata": {},
   "source": [
    "## Renaming Columns"
   ]
  },
  {
   "cell_type": "code",
   "execution_count": 4,
   "metadata": {},
   "outputs": [],
   "source": [
    "df.rename(columns={ 'Rs income in constant $': 'Income', \n",
    "                       'R is how tall': 'Height','R weighs how much': 'Weight','Rs religious preference': 'Religion',\n",
    "                        'Number of persons in household': 'Number of Household',\n",
    "                         'Race of respondent': 'Race', 'Respondents sex': 'Sex', 'Rs highest degree': 'Degree Completed',\n",
    "                        'Age of respondent': 'Age', 'Number of children': 'Children'}, inplace = True)"
   ]
  },
  {
   "cell_type": "markdown",
   "metadata": {},
   "source": [
    "## Replacing values in dataframe"
   ]
  },
  {
   "cell_type": "code",
   "execution_count": 5,
   "metadata": {},
   "outputs": [],
   "source": [
    "df['Degree Completed'].replace({\"Lt high school\": 'High school',  \"Junior college\": 'Under Grad',\"Bachelor\": 'Under Grad'}, inplace=True)\n",
    "df['Marital status'].replace({'Never married':'Unmarried',  'Separated':'Unmarried', 'Divorced':'Unmarried', 'Widowed':'Unmarried'}, inplace = True)\n",
    "df['Labor force status'].replace({'Temp not working':'Unemployed',  'Keeping house':'Unemployed', 'School':'Unemployed', 'Other':'Unemployed',  'Unempl, laid off': 'Unemployed'}, inplace = True)\n",
    "df['Religion'].replace({'Hinduism':'Other', 'Inter-nondenominational':'Other', 'Moslem/islam':'Other', 'Native american': \"Other\",'Orthodox-christian': 'Other', 'Other': \"Other\", 'Other eastern': \"Other\" }, inplace = True)"
   ]
  },
  {
   "cell_type": "markdown",
   "metadata": {},
   "source": [
    "## Changing categorical variables to Dummy variables"
   ]
  },
  {
   "cell_type": "code",
   "execution_count": 6,
   "metadata": {},
   "outputs": [],
   "source": [
    "new_df = pd.get_dummies(df, columns=[\"Religion\",\"Race\",\"Sex\",\"Degree Completed\", 'Marital status', 'Labor force status'])"
   ]
  },
  {
   "cell_type": "markdown",
   "metadata": {},
   "source": [
    "## Dropping unwanted Dummy variables"
   ]
  },
  {
   "cell_type": "code",
   "execution_count": 7,
   "metadata": {},
   "outputs": [],
   "source": [
    "new_df.drop(columns= [\"Labor force status_No answer\", \"Marital status_No answer\",\"Religion_Don't know\", \"Religion_No answer\", \"Degree Completed_Don't know\", \"Degree Completed_No answer\"], inplace = True)"
   ]
  },
  {
   "cell_type": "markdown",
   "metadata": {},
   "source": [
    "## Indexing and Dropping more unwanted rows"
   ]
  },
  {
   "cell_type": "code",
   "execution_count": 8,
   "metadata": {},
   "outputs": [],
   "source": [
    "new_df = new_df[new_df.Children != 'Eight or more']\n",
    "new_df = new_df[new_df.Children != 'Dk na']"
   ]
  },
  {
   "cell_type": "code",
   "execution_count": 9,
   "metadata": {},
   "outputs": [],
   "source": [
    "new_df = new_df[new_df.Age != '89 or older']\n",
    "new_df = new_df[new_df.Age != 'No answer']"
   ]
  },
  {
   "cell_type": "code",
   "execution_count": 10,
   "metadata": {},
   "outputs": [],
   "source": [
    "weight = new_df[new_df['Weight'] == 'Not applicable' ].index\n",
    "weight_no = new_df[new_df['Weight'] == 'No answer' ].index\n",
    "weight_not = new_df[new_df['Weight'] == \"Don't know\" ].index\n",
    "\n",
    "new_df.drop(weight,  inplace=True)\n",
    "new_df.drop(weight_no,  inplace=True)\n",
    "new_df.drop(weight_not,  inplace=True)"
   ]
  },
  {
   "cell_type": "code",
   "execution_count": 11,
   "metadata": {},
   "outputs": [],
   "source": [
    "height = new_df[new_df['Height'] == 'Not applicable' ].index\n",
    "height_no = new_df[new_df['Height'] == 'No answer' ].index\n",
    "height_not = new_df[new_df['Height'] == \"Don't know\" ].index\n",
    "\n",
    "\n",
    "new_df.drop(height,inplace=True)\n",
    "new_df.drop(height_not,inplace=True)\n",
    "new_df.drop(height_no,inplace=True)"
   ]
  },
  {
   "cell_type": "markdown",
   "metadata": {},
   "source": [
    "## Changing data type of rows"
   ]
  },
  {
   "cell_type": "code",
   "execution_count": 12,
   "metadata": {},
   "outputs": [],
   "source": [
    "new_df[['Height', 'Weight', 'Age', 'Children']] = new_df[['Height', 'Weight', 'Age', 'Children']].apply(pd.to_numeric) "
   ]
  },
  {
   "cell_type": "markdown",
   "metadata": {},
   "source": [
    "## New and cleaned Dataframe"
   ]
  },
  {
   "cell_type": "code",
   "execution_count": 13,
   "metadata": {},
   "outputs": [
    {
     "data": {
      "text/html": [
       "<div>\n",
       "<style scoped>\n",
       "    .dataframe tbody tr th:only-of-type {\n",
       "        vertical-align: middle;\n",
       "    }\n",
       "\n",
       "    .dataframe tbody tr th {\n",
       "        vertical-align: top;\n",
       "    }\n",
       "\n",
       "    .dataframe thead th {\n",
       "        text-align: right;\n",
       "    }\n",
       "</style>\n",
       "<table border=\"1\" class=\"dataframe\">\n",
       "  <thead>\n",
       "    <tr style=\"text-align: right;\">\n",
       "      <th></th>\n",
       "      <th>Income</th>\n",
       "      <th>Height</th>\n",
       "      <th>Weight</th>\n",
       "      <th>Number of Household</th>\n",
       "      <th>Age</th>\n",
       "      <th>Children</th>\n",
       "      <th>Religion_Buddhism</th>\n",
       "      <th>Religion_Catholic</th>\n",
       "      <th>Religion_Christian</th>\n",
       "      <th>Religion_Jewish</th>\n",
       "      <th>...</th>\n",
       "      <th>Sex_Male</th>\n",
       "      <th>Degree Completed_Graduate</th>\n",
       "      <th>Degree Completed_High school</th>\n",
       "      <th>Degree Completed_Under Grad</th>\n",
       "      <th>Marital status_Married</th>\n",
       "      <th>Marital status_Unmarried</th>\n",
       "      <th>Labor force status_Retired</th>\n",
       "      <th>Labor force status_Unemployed</th>\n",
       "      <th>Labor force status_Working fulltime</th>\n",
       "      <th>Labor force status_Working parttime</th>\n",
       "    </tr>\n",
       "  </thead>\n",
       "  <tbody>\n",
       "    <tr>\n",
       "      <td>18945</td>\n",
       "      <td>39022.50</td>\n",
       "      <td>72</td>\n",
       "      <td>190</td>\n",
       "      <td>1.0</td>\n",
       "      <td>53</td>\n",
       "      <td>0</td>\n",
       "      <td>0</td>\n",
       "      <td>1</td>\n",
       "      <td>0</td>\n",
       "      <td>0</td>\n",
       "      <td>...</td>\n",
       "      <td>1</td>\n",
       "      <td>0</td>\n",
       "      <td>0</td>\n",
       "      <td>1</td>\n",
       "      <td>0</td>\n",
       "      <td>1</td>\n",
       "      <td>0</td>\n",
       "      <td>0</td>\n",
       "      <td>1</td>\n",
       "      <td>0</td>\n",
       "    </tr>\n",
       "    <tr>\n",
       "      <td>18946</td>\n",
       "      <td>39022.50</td>\n",
       "      <td>60</td>\n",
       "      <td>97</td>\n",
       "      <td>2.0</td>\n",
       "      <td>26</td>\n",
       "      <td>0</td>\n",
       "      <td>0</td>\n",
       "      <td>1</td>\n",
       "      <td>0</td>\n",
       "      <td>0</td>\n",
       "      <td>...</td>\n",
       "      <td>0</td>\n",
       "      <td>0</td>\n",
       "      <td>0</td>\n",
       "      <td>1</td>\n",
       "      <td>1</td>\n",
       "      <td>0</td>\n",
       "      <td>0</td>\n",
       "      <td>0</td>\n",
       "      <td>1</td>\n",
       "      <td>0</td>\n",
       "    </tr>\n",
       "    <tr>\n",
       "      <td>18948</td>\n",
       "      <td>6503.75</td>\n",
       "      <td>68</td>\n",
       "      <td>160</td>\n",
       "      <td>4.0</td>\n",
       "      <td>56</td>\n",
       "      <td>2</td>\n",
       "      <td>0</td>\n",
       "      <td>1</td>\n",
       "      <td>0</td>\n",
       "      <td>0</td>\n",
       "      <td>...</td>\n",
       "      <td>0</td>\n",
       "      <td>0</td>\n",
       "      <td>0</td>\n",
       "      <td>1</td>\n",
       "      <td>1</td>\n",
       "      <td>0</td>\n",
       "      <td>0</td>\n",
       "      <td>0</td>\n",
       "      <td>0</td>\n",
       "      <td>1</td>\n",
       "    </tr>\n",
       "    <tr>\n",
       "      <td>18958</td>\n",
       "      <td>11233.75</td>\n",
       "      <td>65</td>\n",
       "      <td>156</td>\n",
       "      <td>2.0</td>\n",
       "      <td>40</td>\n",
       "      <td>2</td>\n",
       "      <td>0</td>\n",
       "      <td>1</td>\n",
       "      <td>0</td>\n",
       "      <td>0</td>\n",
       "      <td>...</td>\n",
       "      <td>0</td>\n",
       "      <td>0</td>\n",
       "      <td>1</td>\n",
       "      <td>0</td>\n",
       "      <td>1</td>\n",
       "      <td>0</td>\n",
       "      <td>0</td>\n",
       "      <td>0</td>\n",
       "      <td>1</td>\n",
       "      <td>0</td>\n",
       "    </tr>\n",
       "    <tr>\n",
       "      <td>18960</td>\n",
       "      <td>11233.75</td>\n",
       "      <td>66</td>\n",
       "      <td>210</td>\n",
       "      <td>2.0</td>\n",
       "      <td>56</td>\n",
       "      <td>3</td>\n",
       "      <td>0</td>\n",
       "      <td>1</td>\n",
       "      <td>0</td>\n",
       "      <td>0</td>\n",
       "      <td>...</td>\n",
       "      <td>1</td>\n",
       "      <td>0</td>\n",
       "      <td>1</td>\n",
       "      <td>0</td>\n",
       "      <td>1</td>\n",
       "      <td>0</td>\n",
       "      <td>0</td>\n",
       "      <td>0</td>\n",
       "      <td>0</td>\n",
       "      <td>1</td>\n",
       "    </tr>\n",
       "  </tbody>\n",
       "</table>\n",
       "<p>5 rows × 27 columns</p>\n",
       "</div>"
      ],
      "text/plain": [
       "         Income  Height  Weight  Number of Household  Age  Children  \\\n",
       "18945  39022.50      72     190                  1.0   53         0   \n",
       "18946  39022.50      60      97                  2.0   26         0   \n",
       "18948   6503.75      68     160                  4.0   56         2   \n",
       "18958  11233.75      65     156                  2.0   40         2   \n",
       "18960  11233.75      66     210                  2.0   56         3   \n",
       "\n",
       "       Religion_Buddhism  Religion_Catholic  Religion_Christian  \\\n",
       "18945                  0                  1                   0   \n",
       "18946                  0                  1                   0   \n",
       "18948                  0                  1                   0   \n",
       "18958                  0                  1                   0   \n",
       "18960                  0                  1                   0   \n",
       "\n",
       "       Religion_Jewish  ...  Sex_Male  Degree Completed_Graduate  \\\n",
       "18945                0  ...         1                          0   \n",
       "18946                0  ...         0                          0   \n",
       "18948                0  ...         0                          0   \n",
       "18958                0  ...         0                          0   \n",
       "18960                0  ...         1                          0   \n",
       "\n",
       "       Degree Completed_High school  Degree Completed_Under Grad  \\\n",
       "18945                             0                            1   \n",
       "18946                             0                            1   \n",
       "18948                             0                            1   \n",
       "18958                             1                            0   \n",
       "18960                             1                            0   \n",
       "\n",
       "       Marital status_Married  Marital status_Unmarried  \\\n",
       "18945                       0                         1   \n",
       "18946                       1                         0   \n",
       "18948                       1                         0   \n",
       "18958                       1                         0   \n",
       "18960                       1                         0   \n",
       "\n",
       "       Labor force status_Retired  Labor force status_Unemployed  \\\n",
       "18945                           0                              0   \n",
       "18946                           0                              0   \n",
       "18948                           0                              0   \n",
       "18958                           0                              0   \n",
       "18960                           0                              0   \n",
       "\n",
       "       Labor force status_Working fulltime  \\\n",
       "18945                                    1   \n",
       "18946                                    1   \n",
       "18948                                    0   \n",
       "18958                                    1   \n",
       "18960                                    0   \n",
       "\n",
       "       Labor force status_Working parttime  \n",
       "18945                                    0  \n",
       "18946                                    0  \n",
       "18948                                    1  \n",
       "18958                                    0  \n",
       "18960                                    1  \n",
       "\n",
       "[5 rows x 27 columns]"
      ]
     },
     "execution_count": 13,
     "metadata": {},
     "output_type": "execute_result"
    }
   ],
   "source": [
    "new_df.head()"
   ]
  },
  {
   "cell_type": "markdown",
   "metadata": {},
   "source": [
    "# 2. DATA ANALYSIS"
   ]
  },
  {
   "cell_type": "markdown",
   "metadata": {},
   "source": [
    "### Creating a linear regression function"
   ]
  },
  {
   "cell_type": "code",
   "execution_count": 15,
   "metadata": {},
   "outputs": [],
   "source": [
    "def regression(independent, dependent):\n",
    "    X =new_df.loc[:, independent].values.reshape(-1, 1)  # values converts it into a numpy array\n",
    "    Y = new_df.loc[:, dependent ].values.reshape(-1, 1)  # -1 means that calculate the dimension of rows, but have 1 column\n",
    "    linear_regressor = LinearRegression()  # create object for the class\n",
    "    linear_regressor.fit(X, Y)  # perform linear regression\n",
    "    Y_pred = linear_regressor.predict(X)  # make predictions\n",
    "    \n",
    "    \n",
    "    model = sm.OLS(Y, X).fit()\n",
    "    predictions = model.predict(X)\n",
    "    \n",
    "\n",
    "    plt.scatter(X, Y)\n",
    "    plt.title(\"Linear regression of \" + dependent + ' against ' + independent)\n",
    "    plt.xlabel(independent)\n",
    "    plt.ylabel(dependent)\n",
    "    plt.plot(X, Y_pred, color='red')\n",
    "    plt.show()\n",
    "    \n",
    "    r = model.rsquared * 100\n",
    "    rounded = r.round(2)\n",
    "    print(str(rounded) + \"% of the variation in \" + dependent + \" is explained by \" + independent)\n",
    "\n",
    "    X_prediction = float(input (\"What is your \" + independent + \" ? \"))\n",
    "    equation = (int(linear_regressor.coef_ [0][0])* X_prediction) + int(linear_regressor.intercept_[0]) \n",
    "    print(\"Your predicted\" ,dependent ,\"is\", equation)\n",
    "    "
   ]
  },
  {
   "cell_type": "markdown",
   "metadata": {},
   "source": [
    "### Calling out function"
   ]
  },
  {
   "cell_type": "code",
   "execution_count": 16,
   "metadata": {},
   "outputs": [
    {
     "name": "stdout",
     "output_type": "stream",
     "text": [
      "Please input independent variable: Height\n",
      "Please input dependent variable: Weight\n"
     ]
    },
    {
     "data": {
      "image/png": "[encoded data removed]",
      "text/plain": [
       "<Figure size 432x288 with 1 Axes>"
      ]
     },
     "metadata": {
      "needs_background": "light"
     },
     "output_type": "display_data"
    },
    {
     "name": "stdout",
     "output_type": "stream",
     "text": [
      "95.39% of the variation in Weight is explained by Height\n",
      "What is your Height ? 60\n",
      "Your predicted Weight is 145.0\n"
     ]
    }
   ],
   "source": [
    "independent_input = input('Please input independent variable: ')\n",
    "dependent_input = input('Please input dependent variable: ')\n",
    "regression(independent_input, dependent_input)"
   ]
  },
  {
   "cell_type": "markdown",
   "metadata": {},
   "source": [
    "## Logistical Model"
   ]
  },
  {
   "cell_type": "code",
   "execution_count": 24,
   "metadata": {},
   "outputs": [
    {
     "data": {
      "image/png": "[encoded data removed]",
      "text/plain": [
       "<Figure size 1080x720 with 1 Axes>"
      ]
     },
     "metadata": {
      "needs_background": "light"
     },
     "output_type": "display_data"
    }
   ],
   "source": [
    "def logistic(dependent):\n",
    "    #X =df.loc[:, independent].values.reshape(-1, 1)  \n",
    "    Y =df.loc[:, dependent ].values.reshape(-1, 1)\n",
    "    plt.figure(figsize=(15, 10))\n",
    "    sns.countplot(x= dependent, data=df)\n",
    "    #sns.boxplot(x= independent,y= dependent,data= df,palette='winter')\n",
    "\n",
    "logistic(\"Religion\")\n",
    "\n"
   ]
  },
  {
   "cell_type": "code",
   "execution_count": 25,
   "metadata": {},
   "outputs": [
    {
     "ename": "ValueError",
     "evalue": "Neither the `x` nor `y` variable appears to be numeric.",
     "output_type": "error",
     "traceback": [
      "\u001b[0;31m---------------------------------------------------------------------------\u001b[0m",
      "\u001b[0;31mValueError\u001b[0m                                Traceback (most recent call last)",
      "\u001b[0;32m<ipython-input-25-08945cb24e48>\u001b[0m in \u001b[0;36m<module>\u001b[0;34m\u001b[0m\n\u001b[1;32m      4\u001b[0m     \u001b[0mplt\u001b[0m\u001b[0;34m.\u001b[0m\u001b[0mfigure\u001b[0m\u001b[0;34m(\u001b[0m\u001b[0mfigsize\u001b[0m\u001b[0;34m=\u001b[0m\u001b[0;34m(\u001b[0m\u001b[0;36m15\u001b[0m\u001b[0;34m,\u001b[0m \u001b[0;36m10\u001b[0m\u001b[0;34m)\u001b[0m\u001b[0;34m)\u001b[0m\u001b[0;34m\u001b[0m\u001b[0;34m\u001b[0m\u001b[0m\n\u001b[1;32m      5\u001b[0m     \u001b[0msns\u001b[0m\u001b[0;34m.\u001b[0m\u001b[0mboxplot\u001b[0m\u001b[0;34m(\u001b[0m\u001b[0mx\u001b[0m\u001b[0;34m=\u001b[0m \u001b[0mindependent\u001b[0m\u001b[0;34m,\u001b[0m\u001b[0my\u001b[0m\u001b[0;34m=\u001b[0m \u001b[0mdependent\u001b[0m\u001b[0;34m,\u001b[0m\u001b[0mdata\u001b[0m\u001b[0;34m=\u001b[0m \u001b[0mdf\u001b[0m\u001b[0;34m,\u001b[0m\u001b[0mpalette\u001b[0m\u001b[0;34m=\u001b[0m\u001b[0;34m'winter'\u001b[0m\u001b[0;34m)\u001b[0m\u001b[0;34m\u001b[0m\u001b[0;34m\u001b[0m\u001b[0m\n\u001b[0;32m----> 6\u001b[0;31m \u001b[0mlogistic1\u001b[0m\u001b[0;34m(\u001b[0m\u001b[0;34m\"Religion\"\u001b[0m\u001b[0;34m,\u001b[0m \u001b[0;34m\"Age\"\u001b[0m\u001b[0;34m)\u001b[0m\u001b[0;34m\u001b[0m\u001b[0;34m\u001b[0m\u001b[0m\n\u001b[0m",
      "\u001b[0;32m<ipython-input-25-08945cb24e48>\u001b[0m in \u001b[0;36mlogistic1\u001b[0;34m(independent, dependent)\u001b[0m\n\u001b[1;32m      3\u001b[0m     \u001b[0mY\u001b[0m \u001b[0;34m=\u001b[0m\u001b[0mdf\u001b[0m\u001b[0;34m.\u001b[0m\u001b[0mloc\u001b[0m\u001b[0;34m[\u001b[0m\u001b[0;34m:\u001b[0m\u001b[0;34m,\u001b[0m \u001b[0mdependent\u001b[0m \u001b[0;34m]\u001b[0m\u001b[0;34m.\u001b[0m\u001b[0mvalues\u001b[0m\u001b[0;34m.\u001b[0m\u001b[0mreshape\u001b[0m\u001b[0;34m(\u001b[0m\u001b[0;34m-\u001b[0m\u001b[0;36m1\u001b[0m\u001b[0;34m,\u001b[0m \u001b[0;36m1\u001b[0m\u001b[0;34m)\u001b[0m\u001b[0;34m\u001b[0m\u001b[0;34m\u001b[0m\u001b[0m\n\u001b[1;32m      4\u001b[0m     \u001b[0mplt\u001b[0m\u001b[0;34m.\u001b[0m\u001b[0mfigure\u001b[0m\u001b[0;34m(\u001b[0m\u001b[0mfigsize\u001b[0m\u001b[0;34m=\u001b[0m\u001b[0;34m(\u001b[0m\u001b[0;36m15\u001b[0m\u001b[0;34m,\u001b[0m \u001b[0;36m10\u001b[0m\u001b[0;34m)\u001b[0m\u001b[0;34m)\u001b[0m\u001b[0;34m\u001b[0m\u001b[0;34m\u001b[0m\u001b[0m\n\u001b[0;32m----> 5\u001b[0;31m     \u001b[0msns\u001b[0m\u001b[0;34m.\u001b[0m\u001b[0mboxplot\u001b[0m\u001b[0;34m(\u001b[0m\u001b[0mx\u001b[0m\u001b[0;34m=\u001b[0m \u001b[0mindependent\u001b[0m\u001b[0;34m,\u001b[0m\u001b[0my\u001b[0m\u001b[0;34m=\u001b[0m \u001b[0mdependent\u001b[0m\u001b[0;34m,\u001b[0m\u001b[0mdata\u001b[0m\u001b[0;34m=\u001b[0m \u001b[0mdf\u001b[0m\u001b[0;34m,\u001b[0m\u001b[0mpalette\u001b[0m\u001b[0;34m=\u001b[0m\u001b[0;34m'winter'\u001b[0m\u001b[0;34m)\u001b[0m\u001b[0;34m\u001b[0m\u001b[0;34m\u001b[0m\u001b[0m\n\u001b[0m\u001b[1;32m      6\u001b[0m \u001b[0mlogistic1\u001b[0m\u001b[0;34m(\u001b[0m\u001b[0;34m\"Religion\"\u001b[0m\u001b[0;34m,\u001b[0m \u001b[0;34m\"Age\"\u001b[0m\u001b[0;34m)\u001b[0m\u001b[0;34m\u001b[0m\u001b[0;34m\u001b[0m\u001b[0m\n",
      "\u001b[0;32m~/opt/anaconda3/lib/python3.7/site-packages/seaborn/categorical.py\u001b[0m in \u001b[0;36mboxplot\u001b[0;34m(x, y, hue, data, order, hue_order, orient, color, palette, saturation, width, dodge, fliersize, linewidth, whis, notch, ax, **kwargs)\u001b[0m\n\u001b[1;32m   2229\u001b[0m     plotter = _BoxPlotter(x, y, hue, data, order, hue_order,\n\u001b[1;32m   2230\u001b[0m                           \u001b[0morient\u001b[0m\u001b[0;34m,\u001b[0m \u001b[0mcolor\u001b[0m\u001b[0;34m,\u001b[0m \u001b[0mpalette\u001b[0m\u001b[0;34m,\u001b[0m \u001b[0msaturation\u001b[0m\u001b[0;34m,\u001b[0m\u001b[0;34m\u001b[0m\u001b[0;34m\u001b[0m\u001b[0m\n\u001b[0;32m-> 2231\u001b[0;31m                           width, dodge, fliersize, linewidth)\n\u001b[0m\u001b[1;32m   2232\u001b[0m \u001b[0;34m\u001b[0m\u001b[0m\n\u001b[1;32m   2233\u001b[0m     \u001b[0;32mif\u001b[0m \u001b[0max\u001b[0m \u001b[0;32mis\u001b[0m \u001b[0;32mNone\u001b[0m\u001b[0;34m:\u001b[0m\u001b[0;34m\u001b[0m\u001b[0;34m\u001b[0m\u001b[0m\n",
      "\u001b[0;32m~/opt/anaconda3/lib/python3.7/site-packages/seaborn/categorical.py\u001b[0m in \u001b[0;36m__init__\u001b[0;34m(self, x, y, hue, data, order, hue_order, orient, color, palette, saturation, width, dodge, fliersize, linewidth)\u001b[0m\n\u001b[1;32m    444\u001b[0m                  width, dodge, fliersize, linewidth):\n\u001b[1;32m    445\u001b[0m \u001b[0;34m\u001b[0m\u001b[0m\n\u001b[0;32m--> 446\u001b[0;31m         \u001b[0mself\u001b[0m\u001b[0;34m.\u001b[0m\u001b[0mestablish_variables\u001b[0m\u001b[0;34m(\u001b[0m\u001b[0mx\u001b[0m\u001b[0;34m,\u001b[0m \u001b[0my\u001b[0m\u001b[0;34m,\u001b[0m \u001b[0mhue\u001b[0m\u001b[0;34m,\u001b[0m \u001b[0mdata\u001b[0m\u001b[0;34m,\u001b[0m \u001b[0morient\u001b[0m\u001b[0;34m,\u001b[0m \u001b[0morder\u001b[0m\u001b[0;34m,\u001b[0m \u001b[0mhue_order\u001b[0m\u001b[0;34m)\u001b[0m\u001b[0;34m\u001b[0m\u001b[0;34m\u001b[0m\u001b[0m\n\u001b[0m\u001b[1;32m    447\u001b[0m         \u001b[0mself\u001b[0m\u001b[0;34m.\u001b[0m\u001b[0mestablish_colors\u001b[0m\u001b[0;34m(\u001b[0m\u001b[0mcolor\u001b[0m\u001b[0;34m,\u001b[0m \u001b[0mpalette\u001b[0m\u001b[0;34m,\u001b[0m \u001b[0msaturation\u001b[0m\u001b[0;34m)\u001b[0m\u001b[0;34m\u001b[0m\u001b[0;34m\u001b[0m\u001b[0m\n\u001b[1;32m    448\u001b[0m \u001b[0;34m\u001b[0m\u001b[0m\n",
      "\u001b[0;32m~/opt/anaconda3/lib/python3.7/site-packages/seaborn/categorical.py\u001b[0m in \u001b[0;36mestablish_variables\u001b[0;34m(self, x, y, hue, data, orient, order, hue_order, units)\u001b[0m\n\u001b[1;32m    156\u001b[0m \u001b[0;34m\u001b[0m\u001b[0m\n\u001b[1;32m    157\u001b[0m             \u001b[0;31m# Figure out the plotting orientation\u001b[0m\u001b[0;34m\u001b[0m\u001b[0;34m\u001b[0m\u001b[0;34m\u001b[0m\u001b[0m\n\u001b[0;32m--> 158\u001b[0;31m             \u001b[0morient\u001b[0m \u001b[0;34m=\u001b[0m \u001b[0mself\u001b[0m\u001b[0;34m.\u001b[0m\u001b[0minfer_orient\u001b[0m\u001b[0;34m(\u001b[0m\u001b[0mx\u001b[0m\u001b[0;34m,\u001b[0m \u001b[0my\u001b[0m\u001b[0;34m,\u001b[0m \u001b[0morient\u001b[0m\u001b[0;34m)\u001b[0m\u001b[0;34m\u001b[0m\u001b[0;34m\u001b[0m\u001b[0m\n\u001b[0m\u001b[1;32m    159\u001b[0m \u001b[0;34m\u001b[0m\u001b[0m\n\u001b[1;32m    160\u001b[0m             \u001b[0;31m# Option 2a:\u001b[0m\u001b[0;34m\u001b[0m\u001b[0;34m\u001b[0m\u001b[0;34m\u001b[0m\u001b[0m\n",
      "\u001b[0;32m~/opt/anaconda3/lib/python3.7/site-packages/seaborn/categorical.py\u001b[0m in \u001b[0;36minfer_orient\u001b[0;34m(self, x, y, orient)\u001b[0m\n\u001b[1;32m    359\u001b[0m         \u001b[0;32melif\u001b[0m \u001b[0mis_not_numeric\u001b[0m\u001b[0;34m(\u001b[0m\u001b[0my\u001b[0m\u001b[0;34m)\u001b[0m\u001b[0;34m:\u001b[0m\u001b[0;34m\u001b[0m\u001b[0;34m\u001b[0m\u001b[0m\n\u001b[1;32m    360\u001b[0m             \u001b[0;32mif\u001b[0m \u001b[0mis_not_numeric\u001b[0m\u001b[0;34m(\u001b[0m\u001b[0mx\u001b[0m\u001b[0;34m)\u001b[0m\u001b[0;34m:\u001b[0m\u001b[0;34m\u001b[0m\u001b[0;34m\u001b[0m\u001b[0m\n\u001b[0;32m--> 361\u001b[0;31m                 \u001b[0;32mraise\u001b[0m \u001b[0mValueError\u001b[0m\u001b[0;34m(\u001b[0m\u001b[0mno_numeric\u001b[0m\u001b[0;34m)\u001b[0m\u001b[0;34m\u001b[0m\u001b[0;34m\u001b[0m\u001b[0m\n\u001b[0m\u001b[1;32m    362\u001b[0m             \u001b[0;32melse\u001b[0m\u001b[0;34m:\u001b[0m\u001b[0;34m\u001b[0m\u001b[0;34m\u001b[0m\u001b[0m\n\u001b[1;32m    363\u001b[0m                 \u001b[0;32mreturn\u001b[0m \u001b[0;34m\"h\"\u001b[0m\u001b[0;34m\u001b[0m\u001b[0;34m\u001b[0m\u001b[0m\n",
      "\u001b[0;31mValueError\u001b[0m: Neither the `x` nor `y` variable appears to be numeric."
     ]
    },
    {
     "data": {
      "text/plain": [
       "<Figure size 1080x720 with 0 Axes>"
      ]
     },
     "metadata": {},
     "output_type": "display_data"
    }
   ],
   "source": [
    "def logistic1(independent, dependent):\n",
    "    X =df.loc[:, independent].values.reshape(-1, 1)  \n",
    "    Y =df.loc[:, dependent ].values.reshape(-1, 1)\n",
    "    plt.figure(figsize=(15, 10))\n",
    "    sns.boxplot(x= independent,y= dependent,data= df,palette='winter')\n",
    "logistic1(\"Religion\", \"Age\")"
   ]
  },
  {
   "cell_type": "code",
   "execution_count": null,
   "metadata": {},
   "outputs": [],
   "source": []
  }
 ],
 "metadata": {
  "kernelspec": {
   "display_name": "Python 3",
   "language": "python",
   "name": "python3"
  },
  "language_info": {
   "codemirror_mode": {
    "name": "ipython",
    "version": 3
   },
   "file_extension": ".py",
   "mimetype": "text/x-python",
   "name": "python",
   "nbconvert_exporter": "python",
   "pygments_lexer": "ipython3",
   "version": "3.7.4"
  }
 },
 "nbformat": 4,
 "nbformat_minor": 2
}
